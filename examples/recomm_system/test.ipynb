{
 "cells": [
  {
   "cell_type": "code",
   "execution_count": 2,
   "metadata": {},
   "outputs": [
    {
     "name": "stdout",
     "output_type": "stream",
     "text": [
      "Creating training data\n",
      "Warning: Looks like you're using an outdated `kagglehub` version (installed: 0.3.5), please consider upgrading to the latest version (0.3.6).\n",
      "Path to dataset files: /root/.cache/kagglehub/datasets/karkavelrajaj/amazon-sales-dataset/versions/1\n",
      "Original data shape: (1465, 16)\n",
      "Expanded data shape: (14640, 4)\n",
      "Dataset saved to noisy_dataset_0.005.csv\n",
      "Creating training data\n",
      "Warning: Looks like you're using an outdated `kagglehub` version (installed: 0.3.5), please consider upgrading to the latest version (0.3.6).\n",
      "Path to dataset files: /root/.cache/kagglehub/datasets/karkavelrajaj/amazon-sales-dataset/versions/1\n",
      "Original data shape: (1465, 16)\n",
      "Expanded data shape: (14640, 4)\n",
      "Dataset saved to noisy_dataset_0.01.csv\n",
      "Creating training data\n",
      "Warning: Looks like you're using an outdated `kagglehub` version (installed: 0.3.5), please consider upgrading to the latest version (0.3.6).\n",
      "Path to dataset files: /root/.cache/kagglehub/datasets/karkavelrajaj/amazon-sales-dataset/versions/1\n",
      "Original data shape: (1465, 16)\n",
      "Expanded data shape: (14640, 4)\n",
      "Dataset saved to noisy_dataset_0.02.csv\n",
      "Creating training data\n",
      "Warning: Looks like you're using an outdated `kagglehub` version (installed: 0.3.5), please consider upgrading to the latest version (0.3.6).\n",
      "Path to dataset files: /root/.cache/kagglehub/datasets/karkavelrajaj/amazon-sales-dataset/versions/1\n",
      "Original data shape: (1465, 16)\n",
      "Expanded data shape: (14640, 4)\n",
      "Dataset saved to noisy_dataset_0.05.csv\n",
      "Creating training data\n",
      "Warning: Looks like you're using an outdated `kagglehub` version (installed: 0.3.5), please consider upgrading to the latest version (0.3.6).\n",
      "Path to dataset files: /root/.cache/kagglehub/datasets/karkavelrajaj/amazon-sales-dataset/versions/1\n",
      "Original data shape: (1465, 16)\n",
      "Expanded data shape: (14640, 4)\n",
      "Dataset saved to noisy_dataset_0.1.csv\n",
      "Creating training data\n",
      "Warning: Looks like you're using an outdated `kagglehub` version (installed: 0.3.5), please consider upgrading to the latest version (0.3.6).\n",
      "Path to dataset files: /root/.cache/kagglehub/datasets/karkavelrajaj/amazon-sales-dataset/versions/1\n",
      "Original data shape: (1465, 16)\n",
      "Expanded data shape: (14640, 4)\n",
      "Dataset saved to noisy_dataset_0.2.csv\n"
     ]
    }
   ],
   "source": [
    "import prepare_dataset\n",
    "import pandas as pd\n",
    "import os\n",
    "\n",
    "dataset_noise_ratios = [0.005,0.01,0.02,0.05,0.1,0.2]\n",
    "for noise in dataset_noise_ratios:\n",
    "    data = prepare_dataset.aug_amazon_products(noise_ratio = noise)\n",
    "    df = pd.DataFrame(data)\n",
    "    noise_dataset_file = f\"noisy_dataset_{noise}.csv\"\n",
    "    if os.path.exists(noise_dataset_file):\n",
    "        df.to_csv(noise_dataset_file, mode='a', index=False, header=False)\n",
    "    else:\n",
    "        df.to_csv(noise_dataset_file, index=False)\n",
    "    print(f\"Dataset saved to {noise_dataset_file}\")"
   ]
  },
  {
   "cell_type": "code",
   "execution_count": 1,
   "metadata": {},
   "outputs": [
    {
     "name": "stdout",
     "output_type": "stream",
     "text": [
      "\n",
      "\\begin{table}[h!]\n",
      "\\centering\n",
      "\\begin{tabular}{|c|c|c|c|}\n",
      "\\hline\n",
      "\\textbf{Noise Ratio} & \\textbf{GCN (\\%)} & \\textbf{GTM (\\%)} & \\textbf{TMClassifier (\\%)} \\\\ \\hline\n",
      "0.005 & 81.73 & 98.62 & 76.70 \\\\ \\hline\n",
      "0.01 & 84.73 & 98.34 & 71.43 \\\\ \\hline\n",
      "0.02 & 87.81 & 97.76 & 69.09 \\\\ \\hline\n",
      "0.05 & 79.86 & 94.74 & 61.04 \\\\ \\hline\n",
      "0.1 & 76.40 & 89.82 & 49.60 \\\\ \\hline\n",
      "0.2 & 65.90 & 78.22 & 20.12 \\\\ \\hline\n",
      "\\end{tabular}\n",
      "\\caption{Average accuracy comparison of GCN, GraphTM, and TMClassifier for varying noise ratios.}\n",
      "\\label{tab:recomm_sys_accuracy}\n",
      "\\end{table}\n"
     ]
    }
   ],
   "source": [
    "import pandas as pd\n",
    "data = pd.read_csv(\"experiment_results.csv\")\n",
    "\n",
    "# Extract records within the specified range, e.g., rows 3 to 5 (0-indexed)\n",
    "# This assumes each algorithm data spans three consecutive rows\n",
    "start_index = 0\n",
    "range_records = data.iloc[start_index:len(data)]\n",
    "# print(range_records)\n",
    "# Create a dictionary to store the accuracy values\n",
    "noise_accuracies = {}\n",
    "\n",
    "# Algorithm,Noise_Ratio,T,s,Max_Included_Literals,Epochs,Platform,Total_Time,Accuracy\n",
    "# Group the data by Algorithm and Noise Ratio to calculate average accuracies\n",
    "grouped_data = data.groupby(['Algorithm', 'Noise_Ratio']).agg({'Accuracy': 'mean'}).reset_index()\n",
    "\n",
    "# Pivot the data to get a structure suitable for LaTeX table generation\n",
    "pivot_data = grouped_data.pivot(index='Noise_Ratio', columns='Algorithm', values='Accuracy')\n",
    "   \n",
    "# Generate LaTeX table\n",
    "latex_table = \"\"\"\n",
    "\\\\begin{table}[h!]\n",
    "\\\\centering\n",
    "\\\\begin{tabular}{|c|c|c|c|}\n",
    "\\\\hline\n",
    "\\\\textbf{Noise Ratio} & \\\\textbf{GCN (\\\\%)} & \\\\textbf{GTM (\\\\%)} & \\\\textbf{TMClassifier (\\\\%)} \\\\\\\\ \\\\hline\n",
    "\"\"\"\n",
    "\n",
    "# Iterate over the pivot data to construct the table rows\n",
    "for noise_ratio, row in pivot_data.iterrows():\n",
    "    latex_table += f\"{noise_ratio} & \"\n",
    "    latex_table += f\"{row['Graph NN']:.2f} & {row['GraphTM']:.2f} & {row['TMClassifier']:.2f} \\\\\\\\ \\\\hline\\n\"\n",
    "\n",
    "latex_table += \"\\\\end{tabular}\\n\"\n",
    "latex_table += \"\\\\caption{Average accuracy comparison of GCN, GraphTM, and TMClassifier for varying noise ratios.}\\n\"\n",
    "latex_table += \"\\\\label{tab:recomm_sys_accuracy}\\n\"\n",
    "latex_table += \"\\\\end{table}\"\n",
    "\n",
    "print(latex_table)"
   ]
  }
 ],
 "metadata": {
  "kernelspec": {
   "display_name": "Python 3",
   "language": "python",
   "name": "python3"
  },
  "language_info": {
   "codemirror_mode": {
    "name": "ipython",
    "version": 3
   },
   "file_extension": ".py",
   "mimetype": "text/x-python",
   "name": "python",
   "nbconvert_exporter": "python",
   "pygments_lexer": "ipython3",
   "version": "3.10.12"
  }
 },
 "nbformat": 4,
 "nbformat_minor": 2
}
