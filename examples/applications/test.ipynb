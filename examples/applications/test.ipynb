{
 "cells": [
  {
   "cell_type": "code",
   "execution_count": 19,
   "metadata": {},
   "outputs": [
    {
     "name": "stdout",
     "output_type": "stream",
     "text": [
      "Creating training data\n",
      "Path to dataset files: /root/.cache/kagglehub/datasets/karkavelrajaj/amazon-sales-dataset/versions/1\n",
      "Electronics|HomeTheater,TV&Video|Accessories|RemoteControls\n",
      "X_train shape: (1172, 3)\n",
      "y_train shape: (1172,)\n",
      "X_test shape: (293, 3)\n",
      "y_test shape: (293,)\n",
      "111\n",
      "Electronics|HomeTheater,TV&Video|Accessories|RemoteControls\n"
     ]
    }
   ],
   "source": [
    "from GraphTsetlinMachine.graphs import Graphs\n",
    "import numpy as np\n",
    "from scipy.sparse import csr_matrix\n",
    "from GraphTsetlinMachine.tm import MultiClassGraphTsetlinMachine\n",
    "from time import time\n",
    "import argparse\n",
    "import random\n",
    "import pandas as pd\n",
    "import kagglehub\n",
    "from sklearn.model_selection import train_test_split\n",
    "from sklearn.preprocessing import LabelEncoder\n",
    "\n",
    "\n",
    "print(\"Creating training data\")\n",
    "path = kagglehub.dataset_download(\"karkavelrajaj/amazon-sales-dataset\")\n",
    "print(\"Path to dataset files:\", path)\n",
    "data_file = path + \"/amazon.csv\"  # Adjust this path if necessary\n",
    "data = pd.read_csv(data_file)\n",
    "# print(\"Data preview:\", data.head())\n",
    "data = data[['product_id', 'category', 'user_id', 'rating']]\n",
    "print(data['category'][100])\n",
    " \n",
    "# Step 2: Encode user_id, product_id, and category with LabelEncoder\n",
    "# This converts string identifiers into unique integer values\n",
    "le_user = LabelEncoder()\n",
    "le_item = LabelEncoder()\n",
    "le_category = LabelEncoder()\n",
    "\n",
    "data['user_id'] = le_user.fit_transform(data['user_id'])\n",
    "data['product_id'] = le_item.fit_transform(data['product_id'])\n",
    "data['category'] = le_category.fit_transform(data['category'])\n",
    "\n",
    "# Step 3: Prepare X (features) and y (labels)\n",
    "x = data[['user_id', 'product_id', 'category']].values  # Features: [user, item, category]\n",
    "y = data['rating'].values  # Labels: rating\n",
    "\n",
    "# Step 4: Split the data into training and test sets\n",
    "X_train, X_test, Y_train, Y_test = train_test_split(x, y, test_size=0.2, random_state=42)\n",
    "\n",
    "# Display the shapes to verify the split\n",
    "print(\"X_train shape:\", X_train.shape)\n",
    "print(\"y_train shape:\", Y_train.shape)\n",
    "print(\"X_test shape:\", X_test.shape)\n",
    "print(\"y_test shape:\", Y_test.shape)\n",
    "\n",
    "users = data['user_id'].unique()\n",
    "items = data['product_id'].unique()\n",
    "categories = data['category'].unique()\n",
    "\n",
    "print(categories[100])\n",
    "original_user_id = le_category.inverse_transform([data['category'][100]])[0]\n",
    "print(original_user_id)"
   ]
  }
 ],
 "metadata": {
  "kernelspec": {
   "display_name": "Python 3",
   "language": "python",
   "name": "python3"
  },
  "language_info": {
   "codemirror_mode": {
    "name": "ipython",
    "version": 3
   },
   "file_extension": ".py",
   "mimetype": "text/x-python",
   "name": "python",
   "nbconvert_exporter": "python",
   "pygments_lexer": "ipython3",
   "version": "3.10.12"
  }
 },
 "nbformat": 4,
 "nbformat_minor": 2
}
